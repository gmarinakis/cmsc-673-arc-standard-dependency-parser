{
 "cells": [
  {
   "cell_type": "code",
   "execution_count": 39,
   "metadata": {},
   "outputs": [],
   "source": [
    "import copy\n",
    "\n",
    "import torch\n",
    "import torch.nn as nn\n",
    "\n",
    "import numpy as np\n",
    "from datasets import load_dataset, get_dataset_config_names"
   ]
  },
  {
   "cell_type": "code",
   "execution_count": 40,
   "metadata": {},
   "outputs": [],
   "source": [
    "name = \"universal_dependencies\"\n",
    "ud_config = get_dataset_config_names(name)\n",
    "ud_ewt_train = load_dataset(name, 'en_ewt', split=\"train\")\n",
    "ud_ewt_dev = load_dataset(name, 'en_ewt', split=\"validation\")\n",
    "ud_ewt_test = load_dataset(name, 'en_ewt', split=\"test\")"
   ]
  },
  {
   "cell_type": "code",
   "execution_count": 41,
   "metadata": {},
   "outputs": [
    {
     "data": {
      "text/plain": [
       "{'idx': 'weblog-juancole.com_juancole_20051126063000_ENG_20051126_063000-0035',\n",
       " 'text': 'The situation in Iraq is only going to get better this way.',\n",
       " 'tokens': ['The',\n",
       "  'situation',\n",
       "  'in',\n",
       "  'Iraq',\n",
       "  'is',\n",
       "  'only',\n",
       "  'going',\n",
       "  'to',\n",
       "  'get',\n",
       "  'better',\n",
       "  'this',\n",
       "  'way',\n",
       "  '.'],\n",
       " 'lemmas': ['the',\n",
       "  'situation',\n",
       "  'in',\n",
       "  'Iraq',\n",
       "  'be',\n",
       "  'only',\n",
       "  'go',\n",
       "  'to',\n",
       "  'get',\n",
       "  'better',\n",
       "  'this',\n",
       "  'way',\n",
       "  '.'],\n",
       " 'upos': [8, 0, 2, 10, 17, 14, 16, 7, 16, 6, 8, 0, 1],\n",
       " 'xpos': ['DT',\n",
       "  'NN',\n",
       "  'IN',\n",
       "  'NNP',\n",
       "  'VBZ',\n",
       "  'RB',\n",
       "  'VBG',\n",
       "  'TO',\n",
       "  'VB',\n",
       "  'JJR',\n",
       "  'DT',\n",
       "  'NN',\n",
       "  '.'],\n",
       " 'feats': [\"{'Definite': 'Def', 'PronType': 'Art'}\",\n",
       "  \"{'Number': 'Sing'}\",\n",
       "  'None',\n",
       "  \"{'Number': 'Sing'}\",\n",
       "  \"{'Mood': 'Ind', 'Number': 'Sing', 'Person': '3', 'Tense': 'Pres', 'VerbForm': 'Fin'}\",\n",
       "  'None',\n",
       "  \"{'Tense': 'Pres', 'VerbForm': 'Part'}\",\n",
       "  'None',\n",
       "  \"{'VerbForm': 'Inf'}\",\n",
       "  \"{'Degree': 'Cmp'}\",\n",
       "  \"{'Number': 'Sing', 'PronType': 'Dem'}\",\n",
       "  \"{'Number': 'Sing'}\",\n",
       "  'None'],\n",
       " 'head': ['2', '7', '4', '2', '7', '7', '0', '9', '7', '9', '12', '10', '7'],\n",
       " 'deprel': ['det',\n",
       "  'nsubj',\n",
       "  'case',\n",
       "  'nmod',\n",
       "  'aux',\n",
       "  'advmod',\n",
       "  'root',\n",
       "  'mark',\n",
       "  'xcomp',\n",
       "  'xcomp',\n",
       "  'det',\n",
       "  'obj',\n",
       "  'punct'],\n",
       " 'deps': [\"[('det', 2)]\",\n",
       "  \"[('nsubj', 7), ('nsubj:xsubj', 9), ('nsubj:xsubj', 10)]\",\n",
       "  \"[('case', 4)]\",\n",
       "  \"[('nmod:in', 2)]\",\n",
       "  \"[('aux', 7)]\",\n",
       "  \"[('advmod', 7)]\",\n",
       "  \"[('root', 0)]\",\n",
       "  \"[('mark', 9)]\",\n",
       "  \"[('xcomp', 7)]\",\n",
       "  \"[('xcomp', 9)]\",\n",
       "  \"[('det', 12)]\",\n",
       "  \"[('obj', 10)]\",\n",
       "  \"[('punct', 7)]\"],\n",
       " 'misc': ['None',\n",
       "  'None',\n",
       "  'None',\n",
       "  'None',\n",
       "  'None',\n",
       "  'None',\n",
       "  'None',\n",
       "  'None',\n",
       "  'None',\n",
       "  'None',\n",
       "  'None',\n",
       "  \"{'SpaceAfter': 'No'}\",\n",
       "  'None']}"
      ]
     },
     "execution_count": 41,
     "metadata": {},
     "output_type": "execute_result"
    }
   ],
   "source": [
    "#ud_ewt_train[34] is good default\n",
    "ud_ewt_train[34]['tokens']\n",
    "ud_ewt_train[34]['upos'] #Part of speech tag as an integer index of [\"NOUN\",\"PUNCT\",\"ADP\",\"NUM\",\"SYM\",\"SCONJ\",\"ADJ\",\"PART\",\"DET\",\"CCONJ\",\"PROPN\",\"PRON\",\"X\",\"_\",\"ADV\",\"INTJ\",\"VERB\",\"AUX\"]\n",
    "ud_ewt_train[34]['upos'] #Other POS tag, might be more accurate?\n",
    "ud_ewt_train[34]['deprel'] #arc labels by themselves. https://universaldependencies.org/docs/u/dep/index.html\n",
    "ud_ewt_train[34]['deps'] #arc labels and the index they interact with. NOTE: index starts at one, ROOT is assumed\n",
    "ud_ewt_train[34]"
   ]
  },
  {
   "cell_type": "code",
   "execution_count": 104,
   "metadata": {},
   "outputs": [],
   "source": [
    "#test sentence from exmaple in chen and manning\n",
    "test_sent = {'text': 'He has really good control.',\n",
    "             'tokens': ['He', 'has', 'good', 'control', '.'],\n",
    "             'upos': [11, 16, 6, 0, 1], #probably need to use xpos,\n",
    "             'xpos': ['PRP', 'VBZ', 'JJ', 'NN', '.'],\n",
    "             'deps': [[('nsubj', 2)], [('root', 0)], [('amod', 4)], [('dobj', 2)], [('punct', 2)]]\n",
    "             }"
   ]
  },
  {
   "cell_type": "code",
   "execution_count": 105,
   "metadata": {},
   "outputs": [],
   "source": [
    "#LEFT-ARC(l): adds an arc s1 → s2 with label l and removes s2 from the stack. Precondition: |s| ≥ 2. from Chen and Manning\n",
    "def left_arc(stack, buffer, arcs, dep):\n",
    "    if len(stack) < 2:\n",
    "        print(\"[@] LEFT-ARC called incorrectly, check stack size\")\n",
    "        # return\n",
    "    elif stack[-2] == \"[ROOT]\":\n",
    "        print(\"[@] LEFT-ARC called incorrectly, tried to add depepndency to ROOT\")\n",
    "    else:\n",
    "        arcs.append((dep, (stack[-1],stack.pop(-2))))\n",
    "    print(\"Stack: \", stack, end=\" | \")\n",
    "    print(\"Buffer: \", buffer, end=\" | \")\n",
    "    print(\"Arcs:\", arcs)"
   ]
  },
  {
   "cell_type": "code",
   "execution_count": 106,
   "metadata": {},
   "outputs": [],
   "source": [
    "#RIGHT-ARC(l): adds an arc s2 → s1 with label l and removes s1 from the stack. Precondition: |s| ≥ 2. from Chen and Manning\n",
    "def right_arc(stack, buffer, arcs, dep):\n",
    "    if len(stack) < 2:\n",
    "        print(\"[@] RIGHT-ARC called incorrectly, check stack size\")\n",
    "        # return\n",
    "    else:\n",
    "        arcs.append((dep, (stack[-2],stack.pop(-1))))\n",
    "    print(\"Stack: \", stack, end=\" | \")\n",
    "    print(\"Buffer: \", buffer, end=\" | \")\n",
    "    print(\"Arcs:\", arcs)\n",
    "    "
   ]
  },
  {
   "cell_type": "code",
   "execution_count": 107,
   "metadata": {},
   "outputs": [],
   "source": [
    "# SHIFT: moves b1 from the buffer to the stack. Precondition: |b| ≥ 1. from Chen and Manning\n",
    "def shift(stack, buffer, arcs):\n",
    "    if len(buffer) < 1:\n",
    "        print(\"[@] SHIFT called incorrectly, check buffer size\")\n",
    "        # return\n",
    "    else:\n",
    "        stack.append(buffer.pop(0))\n",
    "    print(\"Stack: \", stack, end=\" | \")\n",
    "    print(\"Buffer: \", buffer, end=\" | \")\n",
    "    print(\"Arcs:\", arcs)"
   ]
  },
  {
   "cell_type": "code",
   "execution_count": 108,
   "metadata": {},
   "outputs": [
    {
     "name": "stdout",
     "output_type": "stream",
     "text": [
      "Stack:  ['[ROOT]', 'He'] | Buffer:  ['has', 'good', 'control', '.'] | Arcs: []\n",
      "Stack:  ['[ROOT]', 'He', 'has'] | Buffer:  ['good', 'control', '.'] | Arcs: []\n",
      "Stack:  ['[ROOT]', 'has'] | Buffer:  ['good', 'control', '.'] | Arcs: [('nsubj', ('has', 'He'))]\n",
      "Stack:  ['[ROOT]', 'has', 'good'] | Buffer:  ['control', '.'] | Arcs: [('nsubj', ('has', 'He'))]\n",
      "Stack:  ['[ROOT]', 'has', 'good', 'control'] | Buffer:  ['.'] | Arcs: [('nsubj', ('has', 'He'))]\n",
      "Stack:  ['[ROOT]', 'has', 'control'] | Buffer:  ['.'] | Arcs: [('nsubj', ('has', 'He')), ('amod', ('control', 'good'))]\n",
      "Stack:  ['[ROOT]', 'has'] | Buffer:  ['.'] | Arcs: [('nsubj', ('has', 'He')), ('amod', ('control', 'good')), ('dobj', ('has', 'control'))]\n",
      "Stack:  ['[ROOT]', 'has', '.'] | Buffer:  [] | Arcs: [('nsubj', ('has', 'He')), ('amod', ('control', 'good')), ('dobj', ('has', 'control'))]\n",
      "Stack:  ['[ROOT]', 'has'] | Buffer:  [] | Arcs: [('nsubj', ('has', 'He')), ('amod', ('control', 'good')), ('dobj', ('has', 'control')), ('punct', ('has', '.'))]\n",
      "Stack:  ['[ROOT]'] | Buffer:  [] | Arcs: [('nsubj', ('has', 'He')), ('amod', ('control', 'good')), ('dobj', ('has', 'control')), ('punct', ('has', '.')), ('root', ('[ROOT]', 'has'))]\n"
     ]
    }
   ],
   "source": [
    "#Goal is to predict the correct transitions at each step aka predict the deps and timing of deps correctly\n",
    "#Sample of \"correct\" transitions for \"He has good control.\"\n",
    "test_stack = [\"[ROOT]\"]\n",
    "test_buffer = copy.deepcopy(test_sent['tokens'])\n",
    "# buffer = [(test_sent['tokens'][i], test_sent['tokens'][i]) for i in range(len(test_sent['tokens']))] #include xpos in buffer in the future\n",
    "test_arcs = []\n",
    "shift(test_stack, test_buffer, test_arcs)\n",
    "shift(test_stack, test_buffer, test_arcs)\n",
    "left_arc(test_stack, test_buffer, test_arcs, 'nsubj')\n",
    "shift(test_stack, test_buffer, test_arcs)\n",
    "shift(test_stack, test_buffer, test_arcs)\n",
    "left_arc(test_stack, test_buffer, test_arcs, 'amod')\n",
    "right_arc(test_stack, test_buffer, test_arcs, 'dobj')\n",
    "shift(test_stack, test_buffer, test_arcs)\n",
    "right_arc(test_stack, test_buffer, test_arcs, 'punct')\n",
    "right_arc(test_stack, test_buffer, test_arcs, 'root')"
   ]
  },
  {
   "cell_type": "code",
   "execution_count": 109,
   "metadata": {},
   "outputs": [
    {
     "data": {
      "text/plain": [
       "[('nsubj', ('has', 'He')),\n",
       " ('amod', ('control', 'good')),\n",
       " ('dobj', ('has', 'control')),\n",
       " ('punct', ('has', '.')),\n",
       " ('root', ('[ROOT]', 'has'))]"
      ]
     },
     "execution_count": 109,
     "metadata": {},
     "output_type": "execute_result"
    }
   ],
   "source": [
    "test_arcs"
   ]
  },
  {
   "cell_type": "code",
   "execution_count": 110,
   "metadata": {},
   "outputs": [
    {
     "data": {
      "text/plain": [
       "[('nsubj', ('has', 'He')),\n",
       " ('root', ('[ROOT]', 'has')),\n",
       " ('amod', ('control', 'good')),\n",
       " ('dobj', ('has', 'control')),\n",
       " ('punct', ('has', '.'))]"
      ]
     },
     "execution_count": 110,
     "metadata": {},
     "output_type": "execute_result"
    }
   ],
   "source": [
    "#compare to arcs in UD format\n",
    "valid_arcs = []\n",
    "for i in range(len(test_sent['deps'])):\n",
    "    valid_arcs.append((test_sent['deps'][i][0][0],((([\"[ROOT]\"] + test_sent['tokens'])[test_sent['deps'][i][0][1]]), test_sent['tokens'][i])))\n",
    "valid_arcs"
   ]
  },
  {
   "cell_type": "code",
   "execution_count": 111,
   "metadata": {},
   "outputs": [
    {
     "data": {
      "text/plain": [
       "True"
      ]
     },
     "execution_count": 111,
     "metadata": {},
     "output_type": "execute_result"
    }
   ],
   "source": [
    "all([i in valid_arcs for i in test_arcs])"
   ]
  },
  {
   "cell_type": "code",
   "execution_count": 130,
   "metadata": {},
   "outputs": [],
   "source": [
    "#To generate training data, need to reverse the valid arcs into operations which produce them\n",
    "#The \"training oracle\" as described in slp3 which determines which transition to do. return a list of transitions\n",
    "#sentence is UD format sentence\n",
    "def training_oracle(sentence):\n",
    "    stack = [\"[ROOT]\"]\n",
    "    buffer = copy.deepcopy(sentence['tokens'])\n",
    "    arcs = []\n",
    "    transitions = [] #what we return\n",
    "    labeled_arcs = []\n",
    "    for i in range(len(sentence['deps'])):\n",
    "        labeled_arcs.append((sentence['deps'][i][0][0],((([\"[ROOT]\"] + sentence['tokens'])[sentence['deps'][i][0][1]]), sentence['tokens'][i])))\n",
    "    unlabeled_arcs = [i[1] for i in labeled_arcs] \n",
    "    for i in range(2*len(sentence['tokens'])): #2N transitions\n",
    "        if len(stack) >= 2:\n",
    "            if (stack[-1],stack[-2]) in unlabeled_arcs:\n",
    "                arc_label = labeled_arcs.pop(unlabeled_arcs.index((stack[-1],stack[-2])))[0]\n",
    "                transitions.append(\"left-arc \" + arc_label)\n",
    "                unlabeled_arcs.remove((stack[-1],stack[-2]))\n",
    "                left_arc(stack, buffer, arcs, arc_label)\n",
    "            elif (stack[-2],stack[-1]) in unlabeled_arcs and stack[-1] not in [j[0] for j in unlabeled_arcs]: #all of the dependents of the word at the top of the stack must already be assign before right arc,\n",
    "                arc_label = labeled_arcs.pop(unlabeled_arcs.index((stack[-2],stack[-1])))[0]\n",
    "                transitions.append(\"right-arc \" + arc_label)\n",
    "                unlabeled_arcs.remove((stack[-2],stack[-1]))\n",
    "                right_arc(stack, buffer, arcs, arc_label)\n",
    "        if len(transitions) <= i: #if neither arc transition has been done do shift\n",
    "            transitions.append(\"shift\")\n",
    "            shift(stack, buffer, arcs)\n",
    "    return transitions"
   ]
  },
  {
   "cell_type": "code",
   "execution_count": 131,
   "metadata": {},
   "outputs": [
    {
     "name": "stdout",
     "output_type": "stream",
     "text": [
      "Stack:  ['[ROOT]', 'He'] | Buffer:  ['has', 'good', 'control', '.'] | Arcs: []\n",
      "Stack:  ['[ROOT]', 'He', 'has'] | Buffer:  ['good', 'control', '.'] | Arcs: []\n",
      "Stack:  ['[ROOT]', 'has'] | Buffer:  ['good', 'control', '.'] | Arcs: [('nsubj', ('has', 'He'))]\n",
      "Stack:  ['[ROOT]', 'has', 'good'] | Buffer:  ['control', '.'] | Arcs: [('nsubj', ('has', 'He'))]\n",
      "Stack:  ['[ROOT]', 'has', 'good', 'control'] | Buffer:  ['.'] | Arcs: [('nsubj', ('has', 'He'))]\n",
      "Stack:  ['[ROOT]', 'has', 'control'] | Buffer:  ['.'] | Arcs: [('nsubj', ('has', 'He')), ('amod', ('control', 'good'))]\n",
      "Stack:  ['[ROOT]', 'has'] | Buffer:  ['.'] | Arcs: [('nsubj', ('has', 'He')), ('amod', ('control', 'good')), ('dobj', ('has', 'control'))]\n",
      "Stack:  ['[ROOT]', 'has', '.'] | Buffer:  [] | Arcs: [('nsubj', ('has', 'He')), ('amod', ('control', 'good')), ('dobj', ('has', 'control'))]\n",
      "Stack:  ['[ROOT]', 'has'] | Buffer:  [] | Arcs: [('nsubj', ('has', 'He')), ('amod', ('control', 'good')), ('dobj', ('has', 'control')), ('punct', ('has', '.'))]\n",
      "Stack:  ['[ROOT]'] | Buffer:  [] | Arcs: [('nsubj', ('has', 'He')), ('amod', ('control', 'good')), ('dobj', ('has', 'control')), ('punct', ('has', '.')), ('root', ('[ROOT]', 'has'))]\n"
     ]
    },
    {
     "data": {
      "text/plain": [
       "['shift',\n",
       " 'shift',\n",
       " 'left-arc nsubj',\n",
       " 'shift',\n",
       " 'shift',\n",
       " 'left-arc amod',\n",
       " 'right-arc dobj',\n",
       " 'shift',\n",
       " 'right-arc punct',\n",
       " 'right-arc root']"
      ]
     },
     "execution_count": 131,
     "metadata": {},
     "output_type": "execute_result"
    }
   ],
   "source": [
    "training_oracle(test_sent)"
   ]
  },
  {
   "cell_type": "code",
   "execution_count": 132,
   "metadata": {},
   "outputs": [],
   "source": [
    "#Featureization. We use sets of elements Sw St and Sl as described in 3.1 of Chen and Manning which can be combined to create features\n",
    "def featurize_configuration(stack, buffer, arcs):\n",
    "    S_w = {'s1' : None, 's2': None, 's3': None, 'b1': None, 'b2': None, 'b3': None,\n",
    "           'lc1s1' : None, 'lc2s1' : None, 'lc1s2' : None, 'lc2s2' : None, 'rc1s1' : None, 'rc2s1' : None, 'rc1s2' : None, 'rc2s2' : None, #lc1s1 is leftmost child of s1, lc2s1 is second leftmost\n",
    "           'lc1lc1s1': None, 'lc1lc1s2': None, 'rc1rc1s1': None, 'rc1rc1s2': None} #lc1lc1 is left most of leftmost children\n",
    "    S_t = {'s1' : None, 's2': None, 's3': None, 'b1': None, 'b2': None, 'b3': None,\n",
    "           'lc1s1' : None, 'lc2s1' : None, 'lc1s2' : None, 'lc2s2' : None, 'rc1s1' : None, 'rc2s1' : None, 'rc1s2' : None, 'rc2s2' : None,\n",
    "           'lc1lc1s1': None, 'lc1lc1s2': None, 'rc1rc1s1': None, 'rc1rc1s2': None}\n",
    "    S_l = {'lc1s1' : None, 'lc2s1' : None, 'lc1s2' : None, 'lc2s2' : None, 'rc1s1' : None, 'rc2s1' : None, 'rc1s2' : None, 'rc2s2' : None,\n",
    "           'lc1lc1s1': None, 'lc1lc1s2': None, 'rc1rc1s1': None, 'rc1rc1s2': None}\n",
    "    if len(stack) >= 1:\n",
    "        S_w['s1'] = stack[-1]\n",
    "        S_t['s1'] = stack[-1] #TODO: Need to determine how I'm inputting POS. If XPOS is in tuple in the stack/buffer, need to modify training oracle\n",
    "        if len(stack) >= 2:\n",
    "            if len(stack) >= 3:\n",
    "    \n"
   ]
  }
 ],
 "metadata": {
  "kernelspec": {
   "display_name": "Python 3",
   "language": "python",
   "name": "python3"
  },
  "language_info": {
   "codemirror_mode": {
    "name": "ipython",
    "version": 3
   },
   "file_extension": ".py",
   "mimetype": "text/x-python",
   "name": "python",
   "nbconvert_exporter": "python",
   "pygments_lexer": "ipython3",
   "version": "3.11.3"
  }
 },
 "nbformat": 4,
 "nbformat_minor": 2
}
